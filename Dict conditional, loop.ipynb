{
 "cells": [
  {
   "cell_type": "code",
   "execution_count": 4,
   "id": "adfa3f56-9cd7-4fdb-946d-de8c21d1848b",
   "metadata": {},
   "outputs": [],
   "source": [
    "d={}"
   ]
  },
  {
   "cell_type": "code",
   "execution_count": 5,
   "id": "8593bc32-338c-4914-9e89-347b40b4d857",
   "metadata": {},
   "outputs": [
    {
     "data": {
      "text/plain": [
       "dict"
      ]
     },
     "execution_count": 5,
     "metadata": {},
     "output_type": "execute_result"
    }
   ],
   "source": [
    "type(d)"
   ]
  },
  {
   "cell_type": "code",
   "execution_count": 6,
   "id": "6c6583a2-9c95-45e2-8376-f1331024d2b8",
   "metadata": {},
   "outputs": [],
   "source": [
    "d1={'key': 'sudh'}"
   ]
  },
  {
   "cell_type": "code",
   "execution_count": 7,
   "id": "5506263d-9c7d-4332-a8fe-c43ede7dc266",
   "metadata": {},
   "outputs": [
    {
     "data": {
      "text/plain": [
       "{'key': 'sudh'}"
      ]
     },
     "execution_count": 7,
     "metadata": {},
     "output_type": "execute_result"
    }
   ],
   "source": [
    "d1"
   ]
  },
  {
   "cell_type": "code",
   "execution_count": 8,
   "id": "6f917519-0935-415b-95ab-9bbafe10f502",
   "metadata": {},
   "outputs": [],
   "source": [
    "d2={'name':'shivam','email':\"ss@gmail.com\",'number':34562}"
   ]
  },
  {
   "cell_type": "code",
   "execution_count": 9,
   "id": "505e6711-88ff-4cf1-a9b7-6dc40084c492",
   "metadata": {},
   "outputs": [
    {
     "data": {
      "text/plain": [
       "{'name': 'shivam', 'email': 'ss@gmail.com', 'number': 34562}"
      ]
     },
     "execution_count": 9,
     "metadata": {},
     "output_type": "execute_result"
    }
   ],
   "source": [
    "d2"
   ]
  },
  {
   "cell_type": "code",
   "execution_count": 3,
   "id": "ccb730db-7bbd-4507-ae8e-a739ad897e1a",
   "metadata": {},
   "outputs": [],
   "source": [
    "d3={234:'sudh','_wer':'kumar',True:24536}"
   ]
  },
  {
   "cell_type": "code",
   "execution_count": 4,
   "id": "1769d355-d76a-43fa-b6af-3cce6b829ed2",
   "metadata": {},
   "outputs": [
    {
     "data": {
      "text/plain": [
       "{234: 'sudh', '_wer': 'kumar', True: 24536}"
      ]
     },
     "execution_count": 4,
     "metadata": {},
     "output_type": "execute_result"
    }
   ],
   "source": [
    "d3"
   ]
  },
  {
   "cell_type": "code",
   "execution_count": 6,
   "id": "d8b2d321-b391-4151-a6d5-6e69909c98a6",
   "metadata": {},
   "outputs": [
    {
     "data": {
      "text/plain": [
       "'sudh'"
      ]
     },
     "execution_count": 6,
     "metadata": {},
     "output_type": "execute_result"
    }
   ],
   "source": [
    "d3[234]"
   ]
  },
  {
   "cell_type": "code",
   "execution_count": 7,
   "id": "9a5dad69-3511-4f3f-8210-f3b1c168819f",
   "metadata": {},
   "outputs": [
    {
     "data": {
      "text/plain": [
       "24536"
      ]
     },
     "execution_count": 7,
     "metadata": {},
     "output_type": "execute_result"
    }
   ],
   "source": [
    "d3[True]"
   ]
  },
  {
   "cell_type": "code",
   "execution_count": 8,
   "id": "df4dc430-bc0c-4d41-88c2-4aba63f7f39c",
   "metadata": {},
   "outputs": [
    {
     "data": {
      "text/plain": [
       "24536"
      ]
     },
     "execution_count": 8,
     "metadata": {},
     "output_type": "execute_result"
    }
   ],
   "source": [
    "d3[1]"
   ]
  },
  {
   "cell_type": "code",
   "execution_count": 12,
   "id": "599c536b-af5d-4bf5-88be-124a5a252b4e",
   "metadata": {},
   "outputs": [],
   "source": [
    "d4={'name':'sudh','mail_id':'ss@gmail.com','name':'sudhanshu'}"
   ]
  },
  {
   "cell_type": "code",
   "execution_count": 10,
   "id": "2a7b35c4-06cf-442e-9d0b-efb4b650b44a",
   "metadata": {},
   "outputs": [
    {
     "data": {
      "text/plain": [
       "'sudhanshu'"
      ]
     },
     "execution_count": 10,
     "metadata": {},
     "output_type": "execute_result"
    }
   ],
   "source": [
    "d4['name']"
   ]
  },
  {
   "cell_type": "code",
   "execution_count": 13,
   "id": "62302b75-8be5-4827-9615-ca6555b54794",
   "metadata": {},
   "outputs": [
    {
     "data": {
      "text/plain": [
       "{'name': 'sudhanshu', 'mail_id': 'ss@gmail.com'}"
      ]
     },
     "execution_count": 13,
     "metadata": {},
     "output_type": "execute_result"
    }
   ],
   "source": [
    "d4"
   ]
  },
  {
   "cell_type": "code",
   "execution_count": 14,
   "id": "0f79e89f-bb8d-461e-a993-f47af0fdc408",
   "metadata": {},
   "outputs": [],
   "source": [
    "d5={'company':'pwskills','course':['web dev','data science','java with dsa system design']}"
   ]
  },
  {
   "cell_type": "code",
   "execution_count": 15,
   "id": "a990a91a-a7c5-4cc3-9a14-e9be74002384",
   "metadata": {},
   "outputs": [
    {
     "data": {
      "text/plain": [
       "{'company': 'pwskills',\n",
       " 'course': ['web dev', 'data science', 'java with dsa system design']}"
      ]
     },
     "execution_count": 15,
     "metadata": {},
     "output_type": "execute_result"
    }
   ],
   "source": [
    "d5"
   ]
  },
  {
   "cell_type": "code",
   "execution_count": 16,
   "id": "2cc6e014-3ffc-4ab3-bca3-517618928886",
   "metadata": {},
   "outputs": [
    {
     "data": {
      "text/plain": [
       "['web dev', 'data science', 'java with dsa system design']"
      ]
     },
     "execution_count": 16,
     "metadata": {},
     "output_type": "execute_result"
    }
   ],
   "source": [
    "d5['course']"
   ]
  },
  {
   "cell_type": "code",
   "execution_count": 17,
   "id": "fa69796c-f35a-49fd-a4ad-93a6287c3d1e",
   "metadata": {},
   "outputs": [
    {
     "data": {
      "text/plain": [
       "'java with dsa system design'"
      ]
     },
     "execution_count": 17,
     "metadata": {},
     "output_type": "execute_result"
    }
   ],
   "source": [
    "d5['course'][2]"
   ]
  },
  {
   "cell_type": "code",
   "execution_count": 25,
   "id": "e89fe3eb-1b66-4ff3-b56f-eeb2bc6e3543",
   "metadata": {},
   "outputs": [],
   "source": [
    "d6={'number':[2,34,5,76,3],'assignment':(1,2,4,6,5,3),'launch_date':{23,65,34},'class_time':{'web_dev':8,'data science masters':8,'java with dsa and system':7}}"
   ]
  },
  {
   "cell_type": "code",
   "execution_count": 26,
   "id": "fbf3fb46-0444-4780-811e-c40cc6bd39a2",
   "metadata": {},
   "outputs": [
    {
     "data": {
      "text/plain": [
       "{'number': [2, 34, 5, 76, 3],\n",
       " 'assignment': (1, 2, 4, 6, 5, 3),\n",
       " 'launch_date': {23, 34, 65},\n",
       " 'class_time': {'web_dev': 8,\n",
       "  'data science masters': 8,\n",
       "  'java with dsa and system': 7}}"
      ]
     },
     "execution_count": 26,
     "metadata": {},
     "output_type": "execute_result"
    }
   ],
   "source": [
    "d6"
   ]
  },
  {
   "cell_type": "code",
   "execution_count": 28,
   "id": "7a9d1cda-0ff6-4f2c-a728-4acf03ae442e",
   "metadata": {},
   "outputs": [
    {
     "data": {
      "text/plain": [
       "{'web_dev': 8, 'data science masters': 8, 'java with dsa and system': 7}"
      ]
     },
     "execution_count": 28,
     "metadata": {},
     "output_type": "execute_result"
    }
   ],
   "source": [
    "d6['class_time'][]"
   ]
  },
  {
   "cell_type": "code",
   "execution_count": 29,
   "id": "32ee229a-f638-4e5a-8be0-fef57b141fdf",
   "metadata": {},
   "outputs": [
    {
     "data": {
      "text/plain": [
       "7"
      ]
     },
     "execution_count": 29,
     "metadata": {},
     "output_type": "execute_result"
    }
   ],
   "source": [
    "d6['class_time']['java with dsa and system']"
   ]
  },
  {
   "cell_type": "code",
   "execution_count": 30,
   "id": "2de60928-70ae-4240-b7cf-6317ef706bc0",
   "metadata": {},
   "outputs": [
    {
     "data": {
      "text/plain": [
       "{'number': [2, 34, 5, 76, 3],\n",
       " 'assignment': (1, 2, 4, 6, 5, 3),\n",
       " 'launch_date': {23, 34, 65},\n",
       " 'class_time': {'web_dev': 8,\n",
       "  'data science masters': 8,\n",
       "  'java with dsa and system': 7}}"
      ]
     },
     "execution_count": 30,
     "metadata": {},
     "output_type": "execute_result"
    }
   ],
   "source": [
    "d6"
   ]
  },
  {
   "cell_type": "code",
   "execution_count": 31,
   "id": "536f7dda-f5cf-4ce2-bccf-0313624e6626",
   "metadata": {},
   "outputs": [],
   "source": [
    "d6['mentor']=['sudh','krish','anurag','haider']"
   ]
  },
  {
   "cell_type": "code",
   "execution_count": 32,
   "id": "b5aa954e-63ae-4fe8-8b8e-ff666b61adea",
   "metadata": {},
   "outputs": [
    {
     "data": {
      "text/plain": [
       "{'number': [2, 34, 5, 76, 3],\n",
       " 'assignment': (1, 2, 4, 6, 5, 3),\n",
       " 'launch_date': {23, 34, 65},\n",
       " 'class_time': {'web_dev': 8,\n",
       "  'data science masters': 8,\n",
       "  'java with dsa and system': 7},\n",
       " 'mentor': ['sudh', 'krish', 'anurag', 'haider']}"
      ]
     },
     "execution_count": 32,
     "metadata": {},
     "output_type": "execute_result"
    }
   ],
   "source": [
    "d6"
   ]
  },
  {
   "cell_type": "code",
   "execution_count": 33,
   "id": "1fbbfb31-8b33-4a78-bc1a-43380ddc0c17",
   "metadata": {},
   "outputs": [],
   "source": [
    "del d6['number']"
   ]
  },
  {
   "cell_type": "code",
   "execution_count": 34,
   "id": "44f18433-f121-4ce1-9b2e-adf3d5d93330",
   "metadata": {},
   "outputs": [
    {
     "data": {
      "text/plain": [
       "{'assignment': (1, 2, 4, 6, 5, 3),\n",
       " 'launch_date': {23, 34, 65},\n",
       " 'class_time': {'web_dev': 8,\n",
       "  'data science masters': 8,\n",
       "  'java with dsa and system': 7},\n",
       " 'mentor': ['sudh', 'krish', 'anurag', 'haider']}"
      ]
     },
     "execution_count": 34,
     "metadata": {},
     "output_type": "execute_result"
    }
   ],
   "source": [
    "d6"
   ]
  },
  {
   "cell_type": "code",
   "execution_count": 36,
   "id": "c15f84b2-7116-4850-8350-71fb8c55b78b",
   "metadata": {},
   "outputs": [
    {
     "data": {
      "text/plain": [
       "['assignment', 'launch_date', 'class_time', 'mentor']"
      ]
     },
     "execution_count": 36,
     "metadata": {},
     "output_type": "execute_result"
    }
   ],
   "source": [
    "list(d6.keys())"
   ]
  },
  {
   "cell_type": "code",
   "execution_count": 38,
   "id": "2b4b9875-d60f-40d0-a5b1-5c2450e352df",
   "metadata": {},
   "outputs": [
    {
     "data": {
      "text/plain": [
       "[(1, 2, 4, 6, 5, 3),\n",
       " {23, 34, 65},\n",
       " {'web_dev': 8, 'data science masters': 8, 'java with dsa and system': 7},\n",
       " ['sudh', 'krish', 'anurag', 'haider']]"
      ]
     },
     "execution_count": 38,
     "metadata": {},
     "output_type": "execute_result"
    }
   ],
   "source": [
    "list(d6.values())"
   ]
  },
  {
   "cell_type": "code",
   "execution_count": 40,
   "id": "fc877668-6346-4728-9122-205fed68ff87",
   "metadata": {
    "tags": []
   },
   "outputs": [
    {
     "data": {
      "text/plain": [
       "[('assignment', (1, 2, 4, 6, 5, 3)),\n",
       " ('launch_date', {23, 34, 65}),\n",
       " ('class_time',\n",
       "  {'web_dev': 8, 'data science masters': 8, 'java with dsa and system': 7}),\n",
       " ('mentor', ['sudh', 'krish', 'anurag', 'haider'])]"
      ]
     },
     "execution_count": 40,
     "metadata": {},
     "output_type": "execute_result"
    }
   ],
   "source": [
    "list(d6.items())"
   ]
  },
  {
   "cell_type": "code",
   "execution_count": 41,
   "id": "66684c2f-7ab4-441a-b23a-9a14e865322b",
   "metadata": {},
   "outputs": [
    {
     "data": {
      "text/plain": [
       "(1, 2, 4, 6, 5, 3)"
      ]
     },
     "execution_count": 41,
     "metadata": {},
     "output_type": "execute_result"
    }
   ],
   "source": [
    "d6.pop('assignment')"
   ]
  },
  {
   "cell_type": "code",
   "execution_count": 42,
   "id": "5c2f8c08-1032-4487-aed6-219070d2d6ac",
   "metadata": {},
   "outputs": [
    {
     "data": {
      "text/plain": [
       "{'launch_date': {23, 34, 65},\n",
       " 'class_time': {'web_dev': 8,\n",
       "  'data science masters': 8,\n",
       "  'java with dsa and system': 7},\n",
       " 'mentor': ['sudh', 'krish', 'anurag', 'haider']}"
      ]
     },
     "execution_count": 42,
     "metadata": {},
     "output_type": "execute_result"
    }
   ],
   "source": [
    "d6"
   ]
  },
  {
   "cell_type": "code",
   "execution_count": 1,
   "id": "3dfed8ae-f270-4f13-8420-aa48ca6a2c74",
   "metadata": {},
   "outputs": [
    {
     "ename": "NameError",
     "evalue": "name 'd6' is not defined",
     "output_type": "error",
     "traceback": [
      "\u001b[0;31m---------------------------------------------------------------------------\u001b[0m",
      "\u001b[0;31mNameError\u001b[0m                                 Traceback (most recent call last)",
      "Cell \u001b[0;32mIn[1], line 1\u001b[0m\n\u001b[0;32m----> 1\u001b[0m \u001b[43md6\u001b[49m\u001b[38;5;241m.\u001b[39mpop()\n",
      "\u001b[0;31mNameError\u001b[0m: name 'd6' is not defined"
     ]
    }
   ],
   "source": [
    "d6.pop()"
   ]
  },
  {
   "cell_type": "code",
   "execution_count": 15,
   "id": "1737fcf8-3185-4113-83f6-8c6c9ae17420",
   "metadata": {
    "tags": []
   },
   "outputs": [
    {
     "name": "stdin",
     "output_type": "stream",
     "text": [
      "enter your marks 45\n"
     ]
    },
    {
     "name": "stdout",
     "output_type": "stream",
     "text": [
      "you will be a part of A2 batch\n"
     ]
    }
   ],
   "source": [
    "marks = int(input('enter your marks'))\n",
    "if marks >=80:\n",
    "    print('you will be a part of A0 batch')\n",
    "elif marks >=60 and marks <80:\n",
    "    print('you will be a part of A1 batch')\n",
    "elif marks >=40 and marks <60:\n",
    "    print('you will be a part of A2 batch')\n",
    "else :\n",
    "    print ('you will be a part of A3 batch')"
   ]
  },
  {
   "cell_type": "code",
   "execution_count": 21,
   "id": "c7736a3b-8dff-4f28-8d42-a85a4a9a6cc6",
   "metadata": {},
   "outputs": [
    {
     "name": "stdin",
     "output_type": "stream",
     "text": [
      "enter price 900\n"
     ]
    },
    {
     "name": "stdout",
     "output_type": "stream",
     "text": [
      "will purchase\n"
     ]
    }
   ],
   "source": [
    "price = int(input(\"enter price\"))\n",
    "if price > 1000:\n",
    "    print(\"not purchase\")\n",
    "    if price > 5000:\n",
    "        print('this is too much')\n",
    "    elif price <2000:\n",
    "        print('its ok')\n",
    "elif price <1000:\n",
    "    print('will purchase')\n",
    "else :\n",
    "    print ('not intrested')"
   ]
  },
  {
   "cell_type": "code",
   "execution_count": 22,
   "id": "37570311-df96-4403-a4a2-a6f840f175b2",
   "metadata": {},
   "outputs": [],
   "source": [
    "l=[1,2,3,4,5,6,7,8]"
   ]
  },
  {
   "cell_type": "code",
   "execution_count": 26,
   "id": "67dcc439-8890-4b04-b177-e08c45803cd2",
   "metadata": {},
   "outputs": [
    {
     "name": "stdout",
     "output_type": "stream",
     "text": [
      "2\n",
      "3\n",
      "4\n",
      "5\n",
      "6\n",
      "7\n",
      "8\n",
      "9\n"
     ]
    },
    {
     "data": {
      "text/plain": [
       "[2, 3, 4, 5, 6, 7, 8, 9]"
      ]
     },
     "execution_count": 26,
     "metadata": {},
     "output_type": "execute_result"
    }
   ],
   "source": [
    "l1=[]\n",
    "for i in l:\n",
    "    print(i+1)\n",
    "    l1.append(i+1)\n",
    "l1"
   ]
  },
  {
   "cell_type": "code",
   "execution_count": 27,
   "id": "65ae7fb2-fc34-4af7-b206-fdb09a054164",
   "metadata": {},
   "outputs": [
    {
     "data": {
      "text/plain": [
       "[2, 3, 4, 5, 6, 7, 8, 9]"
      ]
     },
     "execution_count": 27,
     "metadata": {},
     "output_type": "execute_result"
    }
   ],
   "source": [
    "l1"
   ]
  },
  {
   "cell_type": "code",
   "execution_count": 28,
   "id": "cd316175-bb44-4eff-bb78-e3b4176eebf3",
   "metadata": {},
   "outputs": [],
   "source": [
    "l=['sudh','kumar','pwskills','course']"
   ]
  },
  {
   "cell_type": "code",
   "execution_count": 30,
   "id": "ced89933-0c65-40ec-afb5-b91183c014b4",
   "metadata": {},
   "outputs": [
    {
     "name": "stdout",
     "output_type": "stream",
     "text": [
      "sudh\n",
      "kumar\n",
      "pwskills\n",
      "course\n"
     ]
    }
   ],
   "source": [
    "l1=[]\n",
    "for i in l:\n",
    "    print(i)\n",
    "    l1.append(i.upper())"
   ]
  },
  {
   "cell_type": "code",
   "execution_count": 31,
   "id": "73ecc5f3-4b22-4931-8c0d-3b13a851fe30",
   "metadata": {},
   "outputs": [
    {
     "data": {
      "text/plain": [
       "['SUDH', 'KUMAR', 'PWSKILLS', 'COURSE']"
      ]
     },
     "execution_count": 31,
     "metadata": {},
     "output_type": "execute_result"
    }
   ],
   "source": [
    "l1"
   ]
  },
  {
   "cell_type": "code",
   "execution_count": 47,
   "id": "069c7810-921d-4810-ac8b-56a48c86ccb3",
   "metadata": {},
   "outputs": [],
   "source": [
    "l=[1,2,3,4,4,'sudh','kumar',234,23.654,'abc']"
   ]
  },
  {
   "cell_type": "code",
   "execution_count": 51,
   "id": "63f21b29-f430-4811-9f80-b2098d963ad2",
   "metadata": {},
   "outputs": [],
   "source": [
    "l1_num=[]\n",
    "l2_str=[]\n",
    "for i in l:\n",
    "    if type(i) == int or type(i) == float :\n",
    "        l1_num.append(i)\n",
    "    else:\n",
    "        l2_str.append(i)\n",
    "    "
   ]
  },
  {
   "cell_type": "code",
   "execution_count": 53,
   "id": "6470d533-bad7-4c52-8e55-c04c89d3bb23",
   "metadata": {},
   "outputs": [
    {
     "data": {
      "text/plain": [
       "['sudh', 'kumar', 'abc']"
      ]
     },
     "execution_count": 53,
     "metadata": {},
     "output_type": "execute_result"
    }
   ],
   "source": [
    "l2_str"
   ]
  },
  {
   "cell_type": "code",
   "execution_count": 52,
   "id": "775d5d95-d5c6-46e6-84b3-a3446b6c5170",
   "metadata": {},
   "outputs": [
    {
     "data": {
      "text/plain": [
       "[1, 2, 3, 4, 4, 234, 23.654]"
      ]
     },
     "execution_count": 52,
     "metadata": {},
     "output_type": "execute_result"
    }
   ],
   "source": [
    "l1_num"
   ]
  }
 ],
 "metadata": {
  "kernelspec": {
   "display_name": "Python 3 (ipykernel)",
   "language": "python",
   "name": "python3"
  },
  "language_info": {
   "codemirror_mode": {
    "name": "ipython",
    "version": 3
   },
   "file_extension": ".py",
   "mimetype": "text/x-python",
   "name": "python",
   "nbconvert_exporter": "python",
   "pygments_lexer": "ipython3",
   "version": "3.10.8"
  }
 },
 "nbformat": 4,
 "nbformat_minor": 5
}
